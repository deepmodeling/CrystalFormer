{
 "cells": [
  {
   "cell_type": "code",
   "execution_count": 4,
   "metadata": {},
   "outputs": [],
   "source": [
    "import numpy as np\n",
    "\n",
    "from ase import Atoms\n",
    "from ase.io import read\n",
    "from pymatgen.io.ase import AseAtomsAdaptor\n",
    "from pymatgen.core.structure import Structure\n",
    "from pymatgen.analysis.structure_matcher import StructureMatcher\n",
    "\n",
    "from crystalformer.src.utils import GLXYZAW_from_file, process_one_c2db\n",
    "from crystalformer.src.sym_group import *\n",
    "from scripts.awl2struct_2d import get_struct_from_lawx"
   ]
  },
  {
   "cell_type": "code",
   "execution_count": null,
   "metadata": {},
   "outputs": [
    {
     "data": {
      "text/plain": [
       "Atoms(symbols='Na2Ag2Te2', pbc=[True, True, False], cell=[[6.342571832115988, -0.02109938351186394, 0.0], [3.1848233047101258, 3.1707109131629374, 0.0], [7.180383814621623e-18, 6.24677123134013e-22, 19.79188492]], initial_magmoms=..., calculator=SinglePointCalculator(...))"
      ]
     },
     "execution_count": 3,
     "metadata": {},
     "output_type": "execute_result"
    }
   ],
   "source": [
    "# error_list = [368, 377, 395, 427, 436, 452, 453, 463, 474, 492, 508, 515, 527, 530, 533, 541, 543, 545, 555, 563, 582, 585, 592, 599, 601, 608, 620, 625, 634, 641, 656, 668, 672, 676, 685, 688, 691, 693, 704, 706, 715, 719, 726, 729, 743, 758, 800, 801, 808, 809, 822, 826, 842, 846, 853, 855, 864, 884, 888, 891, 898, 900, 904, 906, 916, 923, 928, 930, 936, 937, 943, 958, 962, 986, 1007, 1010, 1012, 1020, 1023, 1026, 1040, 1045, 1059, 1065, 1067, 1082, 1089, 1103, 1105, 1112, 1116, 1137, 1162, 1180, 1193, 1210, 1226, 1252, 1253, 1305, 1317, 1329, 1352, 1377, 1558, 1655, 1668, 2134, 2175, 2184, 2186, 2213, 2233, 2286, 2305, 2326, 2348, 2373, 2402, 2413, 2430, 2447, 2467, 2491, 2572, 2648, 3030, 3031, 3032, 3033, 3035, 3036, 3037, 3038, 3040, 3042, 3043, 3310, 3319, 3323, 4592, 4593, 4594]\n",
    "\n",
    "csv_file = '/Users/longli/Downloads/c2db_stab/368'\n",
    "atom_types = 119\n",
    "mult_types = 18\n",
    "n_max = 27\n",
    "\n",
    "crystal = read(csv_file + '/structure.xyz')"
   ]
  },
  {
   "cell_type": "code",
   "execution_count": 13,
   "metadata": {},
   "outputs": [
    {
     "name": "stdout",
     "output_type": "stream",
     "text": [
      "['Na', 'Na', 'Ag', 'Ag', 'Te', 'Te']\n",
      "[ 6.34260693  4.49405242 19.79188492 90.         90.         45.06337668]\n",
      "[[0.07695026 0.34028335 0.62014867]\n",
      " [0.57695027 0.34028335 0.37985134]\n",
      " [0.57695208 0.84025542 0.49999322]\n",
      " [0.07695208 0.84025541 0.50000678]\n",
      " [0.57697937 0.34020381 0.59686936]\n",
      " [0.07697937 0.3402038  0.40313063]]\n",
      "[[ 1.57180491  1.07731653 12.27391107]\n",
      " [ 4.74309089  1.06676684  7.51797405]\n",
      " [ 6.33542505  2.65203369  9.89580826]\n",
      " [ 3.1641391   2.66258335  9.89607666]\n",
      " [ 4.74302208  1.06651401 11.8131697 ]\n",
      " [ 1.57173617  1.0770637   7.97871503]]\n"
     ]
    }
   ],
   "source": [
    "print(crystal.get_chemical_symbols())\n",
    "print(crystal.cell.cellpar())\n",
    "print(crystal.get_scaled_positions())\n",
    "print(crystal.get_positions())"
   ]
  },
  {
   "cell_type": "code",
   "execution_count": 6,
   "metadata": {},
   "outputs": [
    {
     "name": "stderr",
     "output_type": "stream",
     "text": [
      "/Users/longli/miniconda3/envs/crystalformer/lib/python3.10/site-packages/spglib/spglib.py:115: DeprecationWarning: dict interface (SpglibDataset['number']) is deprecated.Use attribute interface (SpglibDataset.number) instead\n",
      "  warnings.warn(\n",
      "/Users/longli/miniconda3/envs/crystalformer/lib/python3.10/site-packages/spglib/spglib.py:115: DeprecationWarning: dict interface (SpglibDataset['std_lattice']) is deprecated.Use attribute interface (SpglibDataset.std_lattice) instead\n",
      "  warnings.warn(\n",
      "/Users/longli/miniconda3/envs/crystalformer/lib/python3.10/site-packages/spglib/spglib.py:115: DeprecationWarning: dict interface (SpglibDataset['mapping_to_primitive']) is deprecated.Use attribute interface (SpglibDataset.mapping_to_primitive) instead\n",
      "  warnings.warn(\n",
      "/Users/longli/miniconda3/envs/crystalformer/lib/python3.10/site-packages/spglib/spglib.py:115: DeprecationWarning: dict interface (SpglibDataset['std_mapping_to_primitive']) is deprecated.Use attribute interface (SpglibDataset.std_mapping_to_primitive) instead\n",
      "  warnings.warn(\n",
      "/Users/longli/miniconda3/envs/crystalformer/lib/python3.10/site-packages/spglib/spglib.py:115: DeprecationWarning: dict interface (SpglibDataset['std_positions']) is deprecated.Use attribute interface (SpglibDataset.std_positions) instead\n",
      "  warnings.warn(\n",
      "/Users/longli/miniconda3/envs/crystalformer/lib/python3.10/site-packages/spglib/spglib.py:115: DeprecationWarning: dict interface (SpglibDataset['std_types']) is deprecated.Use attribute interface (SpglibDataset.std_types) instead\n",
      "  warnings.warn(\n",
      "/Users/longli/miniconda3/envs/crystalformer/lib/python3.10/site-packages/spglib/spglib.py:115: DeprecationWarning: dict interface (SpglibDataset['wyckoffs']) is deprecated.Use attribute interface (SpglibDataset.wyckoffs) instead\n",
      "  warnings.warn(\n",
      "/Users/longli/miniconda3/envs/crystalformer/lib/python3.10/site-packages/spglib/spglib.py:115: DeprecationWarning: dict interface (SpglibDataset['equivalent_atoms']) is deprecated.Use attribute interface (SpglibDataset.equivalent_atoms) instead\n",
      "  warnings.warn(\n"
     ]
    },
    {
     "name": "stdout",
     "output_type": "stream",
     "text": [
      "g, a, m, symbol, x: 64 Na 2 2 2b [[0.         0.         0.12014866]]\n",
      "g, a, m, symbol, x: 64 Ag 2 1 2a [[0.5 0.  0. ]]\n",
      "g, a, m, symbol, x: 64 Te 2 2 2b [[0.5        0.5        0.09686936]]\n",
      "['2a' '2b' '2b'] [2 2 2] ['Ag' 'Na' 'Te'] 6\n",
      "===================================\n"
     ]
    },
    {
     "data": {
      "text/plain": [
       "Structure Summary\n",
       "Lattice\n",
       "    abc : 7.41607332229615 7.41607332229615 32.675682067871094\n",
       " angles : 90.00000250447796 90.00000250447796 90.00000250447816\n",
       " volume : 1797.1018520373148\n",
       "      A : 7.416073322296143 0.0 -3.2416684803138196e-07\n",
       "      B : -3.241668873550938e-07 7.4160733222961355 -3.2416684803138196e-07\n",
       "      C : 0.0 0.0 32.675682067871094\n",
       "    pbc : True True True\n",
       "PeriodicSite: Ag (5.562, 1.854, 16.34) [0.75, 0.25, 0.5]\n",
       "PeriodicSite: Ag (1.854, 5.562, 16.34) [0.25, 0.75, 0.5]\n",
       "PeriodicSite: Na (1.854, 1.854, 20.26) [0.25, 0.25, 0.6201]\n",
       "PeriodicSite: Na (5.562, 5.562, 12.41) [0.75, 0.75, 0.3799]\n",
       "PeriodicSite: Te (1.854, 1.854, 19.5) [0.25, 0.25, 0.5969]\n",
       "PeriodicSite: Te (5.562, 5.562, 13.17) [0.75, 0.75, 0.4031]"
      ]
     },
     "execution_count": 6,
     "metadata": {},
     "output_type": "execute_result"
    }
   ],
   "source": [
    "sym_group = LayerGroup()\n",
    "\n",
    "G, L, X, A, W = GLXYZAW_from_file(sym_group, csv_file, atom_types, mult_types, n_max)\n",
    "g = G[0]\n",
    "l = np.array(L[0])\n",
    "x = np.array(X[0])\n",
    "a = np.array(A[0])\n",
    "w = np.array(W[0])\n",
    "\n",
    "l[3:] = l[3:] * (180 / np.pi)\n",
    "l[:3] = l[:3] * (len(a))**(1./3.)\n",
    "    \n",
    "struct_converted = get_struct_from_lawx(g, l, a, w, x)\n",
    "struct_converted"
   ]
  }
 ],
 "metadata": {
  "kernelspec": {
   "display_name": "crystalformer",
   "language": "python",
   "name": "python3"
  },
  "language_info": {
   "codemirror_mode": {
    "name": "ipython",
    "version": 3
   },
   "file_extension": ".py",
   "mimetype": "text/x-python",
   "name": "python",
   "nbconvert_exporter": "python",
   "pygments_lexer": "ipython3",
   "version": "3.10.15"
  }
 },
 "nbformat": 4,
 "nbformat_minor": 2
}
